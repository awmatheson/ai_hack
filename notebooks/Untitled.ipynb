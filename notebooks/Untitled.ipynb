{
 "cells": [
  {
   "cell_type": "code",
   "execution_count": 1,
   "metadata": {
    "collapsed": true
   },
   "outputs": [],
   "source": [
    "import urllib\n",
    "import pandas"
   ]
  },
  {
   "cell_type": "code",
   "execution_count": null,
   "metadata": {
    "collapsed": true
   },
   "outputs": [],
   "source": [
    "# define URLs\n",
    "test_data_url = \"https://storage.googleapis.com/kaggle-competitions-data/inclass/2558/testdata.txt?GoogleAccessId=competitions-data@kaggle-161607.iam.gserviceaccount.com&Expires=1498605469&Signature=dq6WcT6roozk0UW3pYML34U3PiRDX%2FLqWS3oLCYRwIJPdMyHTZwxC9r349V%2F9Lgn%2Bjm5M80wdo4uyRMHv0PkZlmg%2Fnjn3%2FJoSo%2FrkXVpPjRjaA2zR01p6XgNSfwc0FBfONujXC4U6%2FtZ%2FWx9AQ5XaR6IFBZEXfCd2Zf4kfnXhq9aIKFWSHwuQdrCrCe909J6zjuTvq17IOkUlDzyUdosBKL141nwBk81b2KB2QVfiBX8irsIBWmPLlgdQxySDiK2mEeSuKOYkuEMTEQ5JvMrc9rhtRclPUwdazEPN1Oil7mFbxUUHBQG5JEwQ36rH0LhxqcPxI7OK0ufefbdDY86%2Fg%3D%3D\"\n",
    "train_data_url = \"https://storage.googleapis.com/kaggle-competitions-data/inclass/2558/training.txt?GoogleAccessId=competitions-data@kaggle-161607.iam.gserviceaccount.com&Expires=1498605438&Signature=C7GBM2N47ci4dV4te0b7AT34WaSm4%2B5XXSBdYbAPNaHKxT57Kp0RDT55uxl6LUvH8JzpVcmiGgZON%2FHIN0TMNoUlvu8DmgwgxtXWKgAbPNE4BdNibgg8aYs31DlMp23mY3vBrQ8z3RH0Gl%2BR1IlN9adZez4f5AITR9DDQoPANTAjTAPH1lSZUNjrwIrI1n0UgRGLLP1Ex1SbatYlabNhcSYSv2Fb9e2MNcHLFdaWsZ8v2jM42UPaymHyIVpbxFVZsDhtS8O8RxCMfYkVsOP4ko4uy416r1HyQCtlVCHVsTTG6DPnBc8QOqV6qHufi5BWwC4ccobnqVMW02e9Vkqljg%3D%3D\"\n",
    "    \n",
    "# define local file names\n",
    "test_data_file_name = 'test_data.csv'\n",
    "train_data_file_name = 'train_data.csv'\n",
    "    \n",
    "# download files using urlib\n",
    "test_data_f = urllib.urlretrieve(test_data_url, test_data_file_name)\n",
    "train_data_f = urllib.urlretrieve(train_data_url, train_data_file_name)"
   ]
  }
 ],
 "metadata": {
  "kernelspec": {
   "display_name": "Python 2",
   "language": "python",
   "name": "python2"
  },
  "language_info": {
   "codemirror_mode": {
    "name": "ipython",
    "version": 2
   },
   "file_extension": ".py",
   "mimetype": "text/x-python",
   "name": "python",
   "nbconvert_exporter": "python",
   "pygments_lexer": "ipython2",
   "version": "2.7.13"
  }
 },
 "nbformat": 4,
 "nbformat_minor": 2
}
